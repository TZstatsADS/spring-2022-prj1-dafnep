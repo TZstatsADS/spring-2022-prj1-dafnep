{
 "cells": [
  {
   "cell_type": "code",
   "execution_count": 1,
   "id": "c78e20e8",
   "metadata": {},
   "outputs": [],
   "source": [
    "import scipy.io as sio\n",
    "import random\n",
    "import seaborn as sns\n",
    "import matplotlib.pyplot as plt\n",
    "import numpy as np\n",
    "#from xgboost import XGBRegressor\n",
    "import pandas as pd\n",
    "from IPython import display\n"
   ]
  },
  {
   "cell_type": "markdown",
   "id": "74d8b8fa",
   "metadata": {},
   "source": [
    "In this blog we are going to talk about the story of philosophy. When were philosophical texts first introduced and how did this science evolved through the years? How do the different philosophical schools influenced each other and do they share common points of interest?"
   ]
  },
  {
   "cell_type": "markdown",
   "id": "07744a09",
   "metadata": {},
   "source": [
    "The data that we have indicate that the first philosophical texts go back to the 350 BC. That was an era of wealth and prosperity for the greek and chineese civilizations and so, since  livelihoods and the sustainability of life were secured, there were favorable conditions for contemplation, education or research. The era of roman empire seems also favorable. Publications of philosophical texts are reduced dramatically during the period from 500 - 1500. This in known as The Middle Ages, an era which is caracterized by population decline, counterurbanisation, the collapse of centralized authority, invasions, and mass migrations of tribes. No wonder why people stopped being preoccupied by philosophy. Philosophical texts made their appearence again around the 1700s a period which is highly associated to the Renaissance and the french revolution. Since then, people have being studying philosophy systematically. An interesting observation is that philosophy schools succeed one another. That means that as the world evolves, as we gain more knowledge about our own existence our thinking evolves and we develop new theories and practices."
   ]
  },
  {
   "cell_type": "code",
   "execution_count": 4,
   "id": "6e6819e3",
   "metadata": {},
   "outputs": [
    {
     "data": {
      "image/png": "[encoded data removed]",
      "text/plain": [
       "<IPython.core.display.Image object>"
      ]
     },
     "execution_count": 4,
     "metadata": {},
     "output_type": "execute_result"
    }
   ],
   "source": [
    "display.Image(\"./../figs/Timeline of publications.png\")"
   ]
  },
  {
   "cell_type": "code",
   "execution_count": null,
   "id": "fb0c4f1e",
   "metadata": {},
   "outputs": [],
   "source": []
  },
  {
   "cell_type": "markdown",
   "id": "584c9032",
   "metadata": {},
   "source": [
    "Let's have a look at the volume of publications. In total our dataset contains 69 different books and for no school we have available more than 11 books. In fact, some schools are represented mostly from one book/author. This seems logical since some scholls actually refer to a theory perceived and described by a single writer (for example plato, nietzhe, etc)"
   ]
  },
  {
   "cell_type": "code",
   "execution_count": null,
   "id": "d5a3fd38",
   "metadata": {},
   "outputs": [],
   "source": [
    "#plot"
   ]
  },
  {
   "cell_type": "markdown",
   "id": "b2afcfba",
   "metadata": {},
   "source": [
    "How did the presentation of ideas changed during the times? Let's have a look at the sentence lengths for each school. A sentence is the building block of language, which in turn allowes us to express our thoughts and emotions. Below we can see the average sentence length per school. The size of the bullets indicates the amount of sentences we have in our dataset for each school. It is difficul to retrieve a general pattern for the sentence lengths but it seems as if, initially, philosophers tended to use smaller sentences in order to express their thoughts. As time passed, these sentences became more large and complex. The past decates people have come to appreciate the beauty of simplicity and laconism and therefore smaller sentences appear once again. This hypothesis is challenged by the existance of two outliers, namely schools of aristotle and continantal."
   ]
  },
  {
   "cell_type": "code",
   "execution_count": null,
   "id": "04878d1a",
   "metadata": {},
   "outputs": [],
   "source": [
    "#plot"
   ]
  },
  {
   "cell_type": "markdown",
   "id": "2386c48c",
   "metadata": {},
   "source": [
    "In general sentences seem to be larger than the usual sentence length in all cases. We therefore proceeded to investigate the existence of other symbols of punctiation that could explain the size of sentences. The following plot is investigating the existence of ',' and ';' symbols. It is consistent with our sentence length analysis in the sense that the schools that seem to have sentences with the greater lengths are also those which contain the greater amount of punctiation symbols."
   ]
  },
  {
   "cell_type": "code",
   "execution_count": null,
   "id": "7f429f78",
   "metadata": {},
   "outputs": [],
   "source": [
    "#plot"
   ]
  },
  {
   "cell_type": "markdown",
   "id": "dd8e51a9",
   "metadata": {},
   "source": [
    "Let us know have a look at the concepts introduced by each school. Below we can see the worldclouds, presenting the most used words for every school. In order to extract those, common english words, such as and,the,of, are excluded. We manually removed some other words that occured oftenly and did not seem to benefit our analysis."
   ]
  },
  {
   "cell_type": "code",
   "execution_count": null,
   "id": "aad39594",
   "metadata": {},
   "outputs": [],
   "source": [
    "#plot"
   ]
  },
  {
   "cell_type": "markdown",
   "id": "c0c756af",
   "metadata": {},
   "source": [
    "We can get a nice feeling about the evolution of philosophy through these plots. Starting from BC, the main topics of interest were simple contemplations about life (we see worlds like life, man , think), and also raised questions about our surroundings, the things that constitute the world around us (animals, world, heaven). It seems as if the greek philosophers did not touch the topic of gods as much, but this idea is particularly apparent in the worldcloud created for Daoism. On the contrast, greeks were highly interested in the consitution of societies and thus they talk about laws,kings,archons. Moving on we again see simple ideas being discussed such as the gods, the good and the bad(stohisism), the constitution of family and the relashionships of men and women().\n",
    "As we reach later years, more complex concepts start to emerge. Philosophers are talking about critique,phenomenology, concept, conciousness and even references to science are emerging. Nevertheless, the past century was a significant era for humanity since we went through two world wars, major industrial and scientific revolutions and experienced a remarkable progress in evey domain of our everyday lifes. All that seem to have been food for thought for all recent philosophers. We also discover specific words highly related to associated schools such as labour,growth,value,society, which appear in two almost opposite topics, capitalism and communism. "
   ]
  },
  {
   "cell_type": "code",
   "execution_count": null,
   "id": "6e129dd0",
   "metadata": {},
   "outputs": [],
   "source": [
    "#plot"
   ]
  },
  {
   "cell_type": "markdown",
   "id": "326faeb2",
   "metadata": {},
   "source": [
    "We will now investigate if there exist parralels in the different philosophical schools. Note that as seen in previous figures,the time periods in which each we have publications for each school are well defined in the sense that after a relatively small amount of time since the emergence of each school relevant publications stop to occur. But does this mean that the topics that each school examined are distinct? Can we perhaps observe a sort of evolution of the presented ideas? Topic modeling could help us answer such questions. Specifically, we will try to generate 6 different clusters (1/3 of the initial schools) from the available books and investigate how they correlate to each other.  "
   ]
  },
  {
   "cell_type": "code",
   "execution_count": null,
   "id": "874a0405",
   "metadata": {},
   "outputs": [],
   "source": []
  },
  {
   "cell_type": "code",
   "execution_count": null,
   "id": "33327de6",
   "metadata": {},
   "outputs": [],
   "source": [
    "We can see that the plots "
   ]
  },
  {
   "cell_type": "code",
   "execution_count": null,
   "id": "901d2705",
   "metadata": {},
   "outputs": [],
   "source": []
  },
  {
   "cell_type": "markdown",
   "id": "7223d39a",
   "metadata": {},
   "source": [
    "Finally, we are going to investigate how the attitude of the philosophers towards important concepts, which we retrieved through the previous method, has changed in each different school. In order to do so, we first filter the sentences of the dataset in order to only "
   ]
  }
 ],
 "metadata": {
  "kernelspec": {
   "display_name": "Python 3",
   "language": "python",
   "name": "python3"
  },
  "language_info": {
   "codemirror_mode": {
    "name": "ipython",
    "version": 3
   },
   "file_extension": ".py",
   "mimetype": "text/x-python",
   "name": "python",
   "nbconvert_exporter": "python",
   "pygments_lexer": "ipython3",
   "version": "3.8.8"
  }
 },
 "nbformat": 4,
 "nbformat_minor": 5
}
